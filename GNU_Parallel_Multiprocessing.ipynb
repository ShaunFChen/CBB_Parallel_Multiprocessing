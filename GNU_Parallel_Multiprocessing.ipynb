{
 "cells": [
  {
   "cell_type": "markdown",
   "metadata": {
    "slideshow": {
     "slide_type": "slide"
    }
   },
   "source": [
    "## Scripps Research CBB - Code Topics\n",
    "\n",
    "# Basic GNU Parallel and Python Multiprocessing\n",
    "\n",
    "__Shang-Fu Chen (Shaun)  \n",
    "PhD student @ Torkamani lab  \n",
    "Scripps Research Tranlational Institute (SRTI)__"
   ]
  },
  {
   "cell_type": "markdown",
   "metadata": {
    "slideshow": {
     "slide_type": "slide"
    }
   },
   "source": [
    "# Outline\n",
    "\n",
    "1. How can I go home earlier?\n",
    "1. What's GNU Parallel?\n",
    "1. In what situation should I parallelize my jobs?\n",
    "1. (How to run multiprocessing in Python script?)"
   ]
  },
  {
   "cell_type": "markdown",
   "metadata": {
    "slideshow": {
     "slide_type": "slide"
    }
   },
   "source": [
    "# Why?"
   ]
  },
  {
   "cell_type": "markdown",
   "metadata": {
    "slideshow": {
     "slide_type": "fragment"
    }
   },
   "source": [
    "<center><img src='img/et-home-phone.jpg' style=\"width: 550px;\"></center>"
   ]
  },
  {
   "cell_type": "markdown",
   "metadata": {
    "slideshow": {
     "slide_type": "slide"
    }
   },
   "source": [
    "# How can I go home earlier?\n",
    "- Sequential jobs\n",
    "- Interactive parallel (`nohup`, `screen`)\n",
    "- UNIX-based parallel (GNU `parallel`)\n",
    "- Python-based parallel (python `multiprocessing`)"
   ]
  },
  {
   "cell_type": "markdown",
   "metadata": {
    "slideshow": {
     "slide_type": "slide"
    }
   },
   "source": [
    "# For Loop vs Parallel"
   ]
  },
  {
   "cell_type": "markdown",
   "metadata": {
    "slideshow": {
     "slide_type": "slide"
    }
   },
   "source": [
    "# GNU Parallel\n",
    "- A: If you have 32 different jobs you want to run on 4 CPUs, a straight forward way to parallelize is to run 8 jobs on each CPU:\n",
    "- B: GNU Parallel instead spawns a new process when one finishes - keeping the CPUs active and thus saving time:\n",
    "\n",
    "Normal Parallel | GNU Parallel\n",
    ":-:|:-: \n",
    "![fig_1](img/fig_1.png) | ![fig_2](img/fig_2.png)\n",
    "\n",
    "\n",
    "- Resoure: [Tool: Gnu Parallel - Parallelize Serial Command Line Programs Without Changing Them](https://www.biostars.org/p/63816/)"
   ]
  },
  {
   "cell_type": "markdown",
   "metadata": {
    "slideshow": {
     "slide_type": "slide"
    }
   },
   "source": [
    "## Example_1 - single command line"
   ]
  },
  {
   "cell_type": "code",
   "execution_count": 1,
   "metadata": {
    "slideshow": {
     "slide_type": "-"
    }
   },
   "outputs": [
    {
     "name": "stdout",
     "output_type": "stream",
     "text": [
      "Total execution time: 10 sec\n"
     ]
    }
   ],
   "source": [
    "%%bash\n",
    "\n",
    "# imbalance work load, very important to manage the work load balance.\n",
    "# typical example: chr1-22, different chr will finish in different time, the computation resource will wait for the larger chunk.\n",
    "# here we simulate the case by simple code, by sleep command with different time.\n",
    "\n",
    "start=`date +%s`\n",
    "for i in {1..4}; do \n",
    "    sleep ${i}\n",
    "done\n",
    "end=`date +%s`\n",
    "echo Total execution time: $((end-start)) sec"
   ]
  },
  {
   "cell_type": "markdown",
   "metadata": {
    "slideshow": {
     "slide_type": "fragment"
    }
   },
   "source": [
    "#### Parallelization \n",
    "```parallel [command] {1} ::: [list]```"
   ]
  },
  {
   "cell_type": "markdown",
   "metadata": {
    "slideshow": {
     "slide_type": "slide"
    }
   },
   "source": [
    "# Outline\n",
    "- GNU screen for running job in background (credit: Roger Tu)\n",
    "- GNU parallel for running job in parallel\n",
    "- (Optional) Python package “multiprocessing”"
   ]
  },
  {
   "cell_type": "markdown",
   "metadata": {
    "slideshow": {
     "slide_type": "slide"
    }
   },
   "source": [
    "# Example_1 - single command line"
   ]
  },
  {
   "cell_type": "code",
   "execution_count": 22,
   "metadata": {},
   "outputs": [
    {
     "name": "stdout",
     "output_type": "stream",
     "text": [
      "Total execution time: 10 sec\n"
     ]
    }
   ],
   "source": [
    "%%bash\n",
    "\n",
    "start=`date +%s`\n",
    "for i in {1..4}; do\n",
    "    sleep ${i}\n",
    "done\n",
    "end=`date +%s`\n",
    "echo Total execution time: $((end-start)) sec"
   ]
  },
  {
   "cell_type": "markdown",
   "metadata": {},
   "source": [
    "```parallel [command] {1} ::: [list_1]```"
   ]
  },
  {
   "cell_type": "code",
   "execution_count": 23,
   "metadata": {},
   "outputs": [
    {
     "name": "stdout",
     "output_type": "stream",
     "text": [
      "Total execution time: 5 sec\n"
     ]
    }
   ],
   "source": [
    "%%bash\n",
    "\n",
    "start=`date +%s`\n",
    "parallel sleep {1} ::: {1..4}\n",
    "end=`date +%s`\n",
    "echo Total execution time: $((end-start)) sec"
   ]
  },
  {
   "cell_type": "markdown",
   "metadata": {
    "slideshow": {
     "slide_type": "fragment"
    }
   },
   "source": [
    "```parallel [command] {1} {2} ::: [list_1] ::: {list_2}```"
   ]
  },
  {
   "cell_type": "code",
   "execution_count": 20,
   "metadata": {
    "slideshow": {
     "slide_type": "-"
    }
   },
   "outputs": [
    {
     "name": "stdout",
     "output_type": "stream",
     "text": [
      "1 + 10\n",
      "1 + 11\n",
      "2 + 10\n",
      "2 + 11\n"
     ]
    }
   ],
   "source": [
    "%%bash\n",
    "\n",
    "parallel echo {1} + {2} ::: {1..2} ::: {10..11}"
   ]
  },
  {
   "cell_type": "markdown",
   "metadata": {
    "slideshow": {
     "slide_type": "slide"
    }
   },
   "source": [
    "# Example_2 - multiple command lines"
   ]
  },
  {
   "cell_type": "code",
   "execution_count": 10,
   "metadata": {},
   "outputs": [
    {
     "name": "stdout",
     "output_type": "stream",
     "text": [
      "command line 1\n",
      "command line 2\n",
      "command line 3\n",
      "command line 4\n",
      "command line 5\n",
      "command line 6\n",
      "command line 7\n",
      "command line 8\n"
     ]
    }
   ],
   "source": [
    "%%bash\n",
    "\n",
    "for i in {1..8}; do\n",
    "    echo command line ${i}\n",
    "    sleep 0.5\n",
    "done"
   ]
  },
  {
   "cell_type": "markdown",
   "metadata": {
    "slideshow": {
     "slide_type": "fragment"
    }
   },
   "source": [
    "#### Parallelization \n",
    "```parallel \"[command_1] {1}; [command_2]\" ::: [list]```"
   ]
  },
  {
   "cell_type": "code",
   "execution_count": 11,
   "metadata": {},
   "outputs": [
    {
     "name": "stdout",
     "output_type": "stream",
     "text": [
      "command line 1\n",
      "command line 2\n",
      "command line 3\n",
      "command line 4\n",
      "command line 5\n",
      "command line 6\n",
      "command line 7\n",
      "command line 8\n"
     ]
    }
   ],
   "source": [
    "%%bash\n",
    "\n",
    "parallel \"echo command line {1}; sleep 0.5\" ::: {1..8}"
   ]
  },
  {
   "cell_type": "markdown",
   "metadata": {
    "slideshow": {
     "slide_type": "slide"
    }
   },
   "source": [
    "# Example_3 - bash script"
   ]
  },
  {
   "cell_type": "code",
   "execution_count": 13,
   "metadata": {
    "slideshow": {
     "slide_type": "-"
    }
   },
   "outputs": [
    {
     "name": "stdout",
     "output_type": "stream",
     "text": [
      "echo command line 1; sleep 0.5\n",
      "echo command line 2; sleep 0.5\n",
      "echo command line 3; sleep 0.5\n",
      "echo command line 4; sleep 0.5\n",
      "echo command line 5; sleep 0.5\n",
      "echo command line 6; sleep 0.5\n",
      "echo command line 7; sleep 0.5\n",
      "echo command line 8; sleep 0.5\n"
     ]
    }
   ],
   "source": [
    "%%bash\n",
    "\n",
    "for i in {1..8}; do echo \"echo command line ${i}; sleep 0.5\"; done > example_3.sh\n",
    "\n",
    "cat example_1.sh"
   ]
  },
  {
   "cell_type": "code",
   "execution_count": 14,
   "metadata": {
    "slideshow": {
     "slide_type": "fragment"
    }
   },
   "outputs": [
    {
     "name": "stdout",
     "output_type": "stream",
     "text": [
      "command line 1\n",
      "command line 2\n",
      "command line 3\n",
      "command line 4\n",
      "command line 5\n",
      "command line 6\n",
      "command line 7\n",
      "command line 8\n"
     ]
    },
    {
     "name": "stderr",
     "output_type": "stream",
     "text": [
      "\n",
      "real\t0m4.051s\n",
      "user\t0m0.007s\n",
      "sys\t0m0.013s\n"
     ]
    }
   ],
   "source": [
    "%%bash\n",
    "\n",
    "time bash example_3.sh"
   ]
  },
  {
   "cell_type": "markdown",
   "metadata": {
    "slideshow": {
     "slide_type": "fragment"
    }
   },
   "source": [
    "### Parallelization "
   ]
  },
  {
   "cell_type": "markdown",
   "metadata": {
    "slideshow": {
     "slide_type": "-"
    }
   },
   "source": [
    "```parallel < ${bash_script}```"
   ]
  },
  {
   "cell_type": "code",
   "execution_count": 15,
   "metadata": {},
   "outputs": [
    {
     "name": "stdout",
     "output_type": "stream",
     "text": [
      "command line 1\n",
      "command line 2\n",
      "command line 3\n",
      "command line 4\n",
      "command line 5\n",
      "command line 6\n",
      "command line 7\n",
      "command line 8\n"
     ]
    },
    {
     "name": "stderr",
     "output_type": "stream",
     "text": [
      "\n",
      "real\t0m0.750s\n",
      "user\t0m0.146s\n",
      "sys\t0m0.149s\n"
     ]
    }
   ],
   "source": [
    "%%bash\n",
    "\n",
    "time parallel < example_1.sh"
   ]
  },
  {
   "cell_type": "markdown",
   "metadata": {
    "slideshow": {
     "slide_type": "slide"
    }
   },
   "source": [
    "# Example_4 - function"
   ]
  },
  {
   "cell_type": "code",
   "execution_count": 37,
   "metadata": {},
   "outputs": [
    {
     "name": "stdout",
     "output_type": "stream",
     "text": [
      "1 + 10\n",
      "1 + 11\n",
      "1 + 12\n",
      "2 + 10\n",
      "2 + 11\n",
      "2 + 12\n",
      "Total execution time: 0 sec\n"
     ]
    }
   ],
   "source": [
    "%%bash\n",
    "\n",
    "FUN() {\n",
    "    echo $1 + $2\n",
    "    sleep 0.1\n",
    "}\n",
    "\n",
    "start=`date +%s`\n",
    "for i in {1..2}; do\n",
    "    for j in {10..12}; do\n",
    "        FUN ${i} ${j}\n",
    "    done\n",
    "done\n",
    "end=`date +%s`\n",
    "echo Total execution time: $((end-start)) sec"
   ]
  },
  {
   "cell_type": "markdown",
   "metadata": {
    "slideshow": {
     "slide_type": "fragment"
    }
   },
   "source": [
    "### Parallelization "
   ]
  },
  {
   "cell_type": "code",
   "execution_count": 18,
   "metadata": {},
   "outputs": [
    {
     "name": "stdout",
     "output_type": "stream",
     "text": [
      "1 + 10\n",
      "1 + 11\n",
      "1 + 12\n",
      "2 + 10\n",
      "2 + 11\n",
      "2 + 12\n"
     ]
    }
   ],
   "source": [
    "%%bash\n",
    "\n",
    "FUN() {\n",
    "    echo $1 + $2\n",
    "    sleep 0.1\n",
    "}\n",
    "# environemnt variable\n",
    "# -f means it's a function\n",
    "export -f FUN\n",
    "\n",
    "start=`date +%s`\n",
    "parallel FUN ${i} ${j} ::: {1..2} ::: {10..12}\n",
    "end=`date +%s`\n",
    "echo Total execution time: $((end-start)) sec"
   ]
  },
  {
   "cell_type": "markdown",
   "metadata": {
    "slideshow": {
     "slide_type": "slide"
    }
   },
   "source": [
    "# Example_5 - while loop"
   ]
  },
  {
   "cell_type": "code",
   "execution_count": 35,
   "metadata": {},
   "outputs": [
    {
     "name": "stdout",
     "output_type": "stream",
     "text": [
      "1\n",
      "2\n",
      "3\n",
      "4\n"
     ]
    }
   ],
   "source": [
    "%%bash\n",
    "\n",
    "for i in {1..4}; do echo $i; done > file.txt\n",
    "\n",
    "while read line; do\n",
    "    echo ${line}\n",
    "done < file.txt"
   ]
  },
  {
   "cell_type": "markdown",
   "metadata": {
    "slideshow": {
     "slide_type": "fragment"
    }
   },
   "source": [
    "### Parallelization "
   ]
  },
  {
   "cell_type": "code",
   "execution_count": 36,
   "metadata": {},
   "outputs": [
    {
     "name": "stdout",
     "output_type": "stream",
     "text": [
      "1\n",
      "2\n",
      "3\n",
      "4\n"
     ]
    }
   ],
   "source": [
    "%%bash\n",
    "\n",
    "parallel echo \"{1}\" :::: file.txt"
   ]
  },
  {
   "cell_type": "markdown",
   "metadata": {},
   "source": [
    "# Python Multiprocessing"
   ]
  },
  {
   "cell_type": "code",
   "execution_count": null,
   "metadata": {},
   "outputs": [],
   "source": []
  },
  {
   "cell_type": "markdown",
   "metadata": {
    "slideshow": {
     "slide_type": "slide"
    }
   },
   "source": [
    "<center><img src=\"img/intro_mgr.png\" style=\"width: 1400px;\"></center>"
   ]
  },
  {
   "cell_type": "code",
   "execution_count": null,
   "metadata": {
    "slideshow": {
     "slide_type": "slide"
    }
   },
   "outputs": [],
   "source": []
  }
 ],
 "metadata": {
  "celltoolbar": "Slideshow",
  "kernelspec": {
   "display_name": "Python 3",
   "language": "python",
   "name": "python3"
  },
  "language_info": {
   "codemirror_mode": {
    "name": "ipython",
    "version": 3
   },
   "file_extension": ".py",
   "mimetype": "text/x-python",
   "name": "python",
   "nbconvert_exporter": "python",
   "pygments_lexer": "ipython3",
   "version": "3.7.5"
  }
 },
 "nbformat": 4,
 "nbformat_minor": 2
}
