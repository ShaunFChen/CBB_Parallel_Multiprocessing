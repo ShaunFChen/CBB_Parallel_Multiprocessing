{
 "cells": [
  {
   "cell_type": "markdown",
   "metadata": {
    "slideshow": {
     "slide_type": "slide"
    }
   },
   "source": [
    "## Scripps Research CBB - Code Topics\n",
    "\n",
    "# Basic GNU Parallel and Python Multiprocessing\n",
    "\n",
    "__Shang-Fu Chen (Shaun)  \n",
    "PhD student @ Torkamani lab  \n",
    "Scripps Research Tranlational Institute (SRTI)__"
   ]
  },
  {
   "cell_type": "markdown",
   "metadata": {
    "slideshow": {
     "slide_type": "slide"
    }
   },
   "source": [
    "# Outline\n",
    "\n",
    "1. How can I go home earlier?\n",
    "1. What's GNU Parallel?\n",
    "1. In what situation should I parallelize my jobs?\n",
    "1. (How to run multiprocessing in Python script?)"
   ]
  },
  {
   "cell_type": "markdown",
   "metadata": {
    "slideshow": {
     "slide_type": "slide"
    }
   },
   "source": [
    "# Why?"
   ]
  },
  {
   "cell_type": "markdown",
   "metadata": {
    "slideshow": {
     "slide_type": "fragment"
    }
   },
   "source": [
    "<center><img src='img/et-home-phone.jpg' style=\"width: 550px;\"></center>"
   ]
  },
  {
   "cell_type": "markdown",
   "metadata": {
    "slideshow": {
     "slide_type": "slide"
    }
   },
   "source": [
    "# How can I go home earlier?\n",
    "- Sequential jobs\n",
    "- Run session in background  (`nohup`, `screen`)\n",
    "- UNIX-based parallel (GNU `parallel`)\n",
    "- Python-based parallel (python `multiprocessing`)"
   ]
  },
  {
   "cell_type": "markdown",
   "metadata": {
    "slideshow": {
     "slide_type": "slide"
    }
   },
   "source": [
    "# Serial vs Parallel\n",
    "\n",
    "Traditionally, software has been written for __serial__ computation:\n",
    "- A problem is broken into a discrete series of instructions\n",
    "- Instructions are executed sequentially one after another\n",
    "- Executed on a single processor\n",
    "- Only one instruction may execute at any moment in time\n",
    "\n",
    "In the simplest sense, __parallel__ computing is the simultaneous use of multiple compute resources to solve a computational problem:\n",
    "- A problem is broken into discrete parts that can be solved concurrently\n",
    "- Each part is further broken down to a series of instructions\n",
    "- Instructions from each part execute simultaneously on different processors\n",
    "- An overall control/coordination mechanism is employed\n",
    "\n",
    "Serial | Parallel\n",
    ":-:|:-: \n",
    "![fig_1](img/serialProblem.gif) | ![fig_2](img/parallelProblem.gif)\n",
    "\n",
    "- Resoure: [Introduction to Parallel Computing](https://computing.llnl.gov/tutorials/parallel_comp/)\n"
   ]
  },
  {
   "cell_type": "markdown",
   "metadata": {
    "slideshow": {
     "slide_type": "slide"
    }
   },
   "source": [
    "# Normal Parallel vs GNU Parallel\n",
    "- A: If you have 32 different jobs you want to run on 4 CPUs, a straight forward way to parallelize is to run 8 jobs on each CPU:\n",
    "- B: GNU Parallel instead spawns a new process when one finishes - keeping the CPUs active and thus saving time:\n",
    "\n",
    "Normal Parallel | GNU Parallel\n",
    ":-:|:-: \n",
    "![fig_1](img/fig_1.png) | ![fig_2](img/fig_2.png)\n",
    "\n",
    "\n",
    "- Resoure: [Tool: Gnu Parallel - Parallelize Serial Command Line Programs Without Changing Them](https://www.biostars.org/p/63816/)"
   ]
  },
  {
   "cell_type": "markdown",
   "metadata": {},
   "source": [
    "# Work on Garibaldi\n",
    "\n",
    "```qsub -I -l nodes=1:ppn=16```\n",
    "\n",
    "__NOTE: Do not use GNU parallel in login node!!!__"
   ]
  },
  {
   "cell_type": "markdown",
   "metadata": {
    "slideshow": {
     "slide_type": "slide"
    }
   },
   "source": [
    "# Example_1 - single command line"
   ]
  },
  {
   "cell_type": "code",
   "execution_count": 19,
   "metadata": {
    "slideshow": {
     "slide_type": "-"
    }
   },
   "outputs": [
    {
     "name": "stdout",
     "output_type": "stream",
     "text": [
      "Total execution time: 7 sec\n"
     ]
    }
   ],
   "source": [
    "%%bash\n",
    "\n",
    "# imbalance work load, very important to manage the work load balance.\n",
    "# typical example: chr1-22, different chr will finish in different time, the computation resource will wait for the larger chunk.\n",
    "# here we simulate the case by simple code, by sleep command with different time.\n",
    "\n",
    "start=`date +%s`\n",
    "for i in {01..22}; do \n",
    "    sleep 0.${i}\n",
    "done\n",
    "end=`date +%s`\n",
    "echo Total execution time: $((end-start)) sec"
   ]
  },
  {
   "cell_type": "markdown",
   "metadata": {
    "slideshow": {
     "slide_type": "fragment"
    }
   },
   "source": [
    "#### Parallelization \n",
    "```parallel [command] {1} ::: [list]```"
   ]
  },
  {
   "cell_type": "code",
   "execution_count": 20,
   "metadata": {},
   "outputs": [
    {
     "name": "stdout",
     "output_type": "stream",
     "text": [
      "Total execution time: 1 sec\n"
     ]
    }
   ],
   "source": [
    "%%bash\n",
    "\n",
    "start=`date +%s`\n",
    "parallel sleep 0.{1} ::: {01..22}\n",
    "end=`date +%s`\n",
    "echo Total execution time: $((end-start)) sec"
   ]
  },
  {
   "cell_type": "markdown",
   "metadata": {
    "slideshow": {
     "slide_type": "fragment"
    }
   },
   "source": [
    "```parallel [command] {1} {2} ::: [list_1] ::: {list_2}```"
   ]
  },
  {
   "cell_type": "code",
   "execution_count": 44,
   "metadata": {
    "slideshow": {
     "slide_type": "-"
    }
   },
   "outputs": [
    {
     "name": "stdout",
     "output_type": "stream",
     "text": [
      "1 + 8\n",
      "1 + 9\n",
      "2 + 8\n",
      "2 + 9\n"
     ]
    }
   ],
   "source": [
    "%%bash\n",
    "\n",
    "parallel echo {1} + {2} ::: {1..2} ::: $(seq 8 9)"
   ]
  },
  {
   "cell_type": "markdown",
   "metadata": {
    "slideshow": {
     "slide_type": "slide"
    }
   },
   "source": [
    "# Example_2 - multiple command lines"
   ]
  },
  {
   "cell_type": "code",
   "execution_count": 10,
   "metadata": {},
   "outputs": [
    {
     "name": "stdout",
     "output_type": "stream",
     "text": [
      "command line 1\n",
      "command line 2\n",
      "command line 3\n",
      "command line 4\n",
      "command line 5\n",
      "command line 6\n",
      "command line 7\n",
      "command line 8\n"
     ]
    }
   ],
   "source": [
    "%%bash\n",
    "\n",
    "for i in {1..8}; do\n",
    "    echo command line ${i}\n",
    "    sleep 0.5\n",
    "done"
   ]
  },
  {
   "cell_type": "markdown",
   "metadata": {
    "slideshow": {
     "slide_type": "fragment"
    }
   },
   "source": [
    "#### Parallelization \n",
    "```parallel \"[command_1] {1}; [command_2]\" ::: [list]```"
   ]
  },
  {
   "cell_type": "code",
   "execution_count": 11,
   "metadata": {},
   "outputs": [
    {
     "name": "stdout",
     "output_type": "stream",
     "text": [
      "command line 1\n",
      "command line 2\n",
      "command line 3\n",
      "command line 4\n",
      "command line 5\n",
      "command line 6\n",
      "command line 7\n",
      "command line 8\n"
     ]
    }
   ],
   "source": [
    "%%bash\n",
    "\n",
    "parallel \"echo command line {1}; sleep 0.5\" ::: {1..8}"
   ]
  },
  {
   "cell_type": "markdown",
   "metadata": {
    "slideshow": {
     "slide_type": "slide"
    }
   },
   "source": [
    "# Example_3 - bash script"
   ]
  },
  {
   "cell_type": "code",
   "execution_count": 41,
   "metadata": {
    "slideshow": {
     "slide_type": "-"
    }
   },
   "outputs": [
    {
     "name": "stdout",
     "output_type": "stream",
     "text": [
      "echo this step takes 0.01 sec; sleep 0.01\n",
      "echo this step takes 0.02 sec; sleep 0.02\n",
      "echo this step takes 0.03 sec; sleep 0.03\n",
      "echo this step takes 0.04 sec; sleep 0.04\n",
      "echo this step takes 0.05 sec; sleep 0.05\n",
      "echo this step takes 0.06 sec; sleep 0.06\n",
      "echo this step takes 0.07 sec; sleep 0.07\n",
      "echo this step takes 0.08 sec; sleep 0.08\n",
      "echo this step takes 0.09 sec; sleep 0.09\n",
      "echo this step takes 0.10 sec; sleep 0.10\n",
      "echo this step takes 0.11 sec; sleep 0.11\n",
      "echo this step takes 0.12 sec; sleep 0.12\n",
      "echo this step takes 0.13 sec; sleep 0.13\n",
      "echo this step takes 0.14 sec; sleep 0.14\n",
      "echo this step takes 0.15 sec; sleep 0.15\n",
      "echo this step takes 0.16 sec; sleep 0.16\n",
      "echo this step takes 0.17 sec; sleep 0.17\n",
      "echo this step takes 0.18 sec; sleep 0.18\n",
      "echo this step takes 0.19 sec; sleep 0.19\n",
      "echo this step takes 0.20 sec; sleep 0.20\n",
      "echo this step takes 0.21 sec; sleep 0.21\n",
      "echo this step takes 0.22 sec; sleep 0.22\n"
     ]
    }
   ],
   "source": [
    "%%bash\n",
    "\n",
    "for i in $(seq -w 1 22); do echo \"echo this step takes 0.${i} sec; sleep 0.${i}\"; done > example_3.sh\n",
    "\n",
    "cat example_3.sh"
   ]
  },
  {
   "cell_type": "code",
   "execution_count": 42,
   "metadata": {
    "slideshow": {
     "slide_type": "fragment"
    }
   },
   "outputs": [
    {
     "name": "stdout",
     "output_type": "stream",
     "text": [
      "this step takes 0.01 sec\n",
      "this step takes 0.02 sec\n",
      "this step takes 0.03 sec\n",
      "this step takes 0.04 sec\n",
      "this step takes 0.05 sec\n",
      "this step takes 0.06 sec\n",
      "this step takes 0.07 sec\n",
      "this step takes 0.08 sec\n",
      "this step takes 0.09 sec\n",
      "this step takes 0.10 sec\n",
      "this step takes 0.11 sec\n",
      "this step takes 0.12 sec\n",
      "this step takes 0.13 sec\n",
      "this step takes 0.14 sec\n",
      "this step takes 0.15 sec\n",
      "this step takes 0.16 sec\n",
      "this step takes 0.17 sec\n",
      "this step takes 0.18 sec\n",
      "this step takes 0.19 sec\n",
      "this step takes 0.20 sec\n",
      "this step takes 0.21 sec\n",
      "this step takes 0.22 sec\n"
     ]
    },
    {
     "name": "stderr",
     "output_type": "stream",
     "text": [
      "\n",
      "real\t0m2.672s\n",
      "user\t0m0.027s\n",
      "sys\t0m0.046s\n"
     ]
    }
   ],
   "source": [
    "%%bash\n",
    "\n",
    "time bash example_3.sh"
   ]
  },
  {
   "cell_type": "markdown",
   "metadata": {
    "slideshow": {
     "slide_type": "fragment"
    }
   },
   "source": [
    "### Parallelization "
   ]
  },
  {
   "cell_type": "markdown",
   "metadata": {
    "slideshow": {
     "slide_type": "-"
    }
   },
   "source": [
    "```parallel < ${bash_script}```"
   ]
  },
  {
   "cell_type": "code",
   "execution_count": 43,
   "metadata": {},
   "outputs": [
    {
     "name": "stdout",
     "output_type": "stream",
     "text": [
      "this step takes 0.01 sec\n",
      "this step takes 0.02 sec\n",
      "this step takes 0.03 sec\n",
      "this step takes 0.04 sec\n",
      "this step takes 0.05 sec\n",
      "this step takes 0.06 sec\n",
      "this step takes 0.07 sec\n",
      "this step takes 0.08 sec\n",
      "this step takes 0.09 sec\n",
      "this step takes 0.10 sec\n",
      "this step takes 0.11 sec\n",
      "this step takes 0.12 sec\n",
      "this step takes 0.13 sec\n",
      "this step takes 0.14 sec\n",
      "this step takes 0.15 sec\n",
      "this step takes 0.16 sec\n",
      "this step takes 0.17 sec\n",
      "this step takes 0.18 sec\n",
      "this step takes 0.19 sec\n",
      "this step takes 0.20 sec\n",
      "this step takes 0.21 sec\n",
      "this step takes 0.22 sec\n"
     ]
    },
    {
     "name": "stderr",
     "output_type": "stream",
     "text": [
      "\n",
      "real\t0m0.689s\n",
      "user\t0m0.193s\n",
      "sys\t0m0.243s\n"
     ]
    }
   ],
   "source": [
    "%%bash\n",
    "\n",
    "time parallel < example_3.sh"
   ]
  },
  {
   "cell_type": "markdown",
   "metadata": {
    "slideshow": {
     "slide_type": "slide"
    }
   },
   "source": [
    "# Example_4 - function"
   ]
  },
  {
   "cell_type": "code",
   "execution_count": 5,
   "metadata": {},
   "outputs": [
    {
     "name": "stdout",
     "output_type": "stream",
     "text": [
      "it take 0.2 sec in this step\n",
      "it take 0.3 sec in this step\n",
      "it take 0.4 sec in this step\n",
      "it take 0.5 sec in this step\n",
      "it take 0.6 sec in this step\n",
      "it take 0.7 sec in this step\n",
      "it take 0.8 sec in this step\n",
      "it take 0.9 sec in this step\n",
      "it take 1.2 sec in this step\n",
      "it take 1.3 sec in this step\n",
      "it take 1.4 sec in this step\n",
      "it take 1.5 sec in this step\n",
      "it take 1.6 sec in this step\n",
      "it take 1.7 sec in this step\n",
      "it take 1.8 sec in this step\n",
      "it take 1.9 sec in this step\n",
      "Total execution time: 17 sec\n"
     ]
    }
   ],
   "source": [
    "%%bash\n",
    "\n",
    "FUN() {\n",
    "    echo \"it take ${1}.${2} sec in this step\"\n",
    "    sleep ${1}.${2}\n",
    "}\n",
    "\n",
    "start=`date +%s`\n",
    "for i in {0..1}; do\n",
    "    for j in {2..9}; do\n",
    "        FUN ${i} ${j}\n",
    "    done\n",
    "done\n",
    "end=`date +%s`\n",
    "echo Total execution time: $((end-start)) sec"
   ]
  },
  {
   "cell_type": "markdown",
   "metadata": {
    "slideshow": {
     "slide_type": "fragment"
    }
   },
   "source": [
    "### Parallelization "
   ]
  },
  {
   "cell_type": "code",
   "execution_count": 6,
   "metadata": {},
   "outputs": [
    {
     "name": "stdout",
     "output_type": "stream",
     "text": [
      "it take 0.2 sec in this step\n",
      "it take 0.3 sec in this step\n",
      "it take 0.4 sec in this step\n",
      "it take 0.5 sec in this step\n",
      "it take 0.6 sec in this step\n",
      "it take 0.7 sec in this step\n",
      "it take 0.8 sec in this step\n",
      "it take 0.9 sec in this step\n",
      "it take 1.2 sec in this step\n",
      "it take 1.3 sec in this step\n",
      "it take 1.4 sec in this step\n",
      "it take 1.5 sec in this step\n",
      "it take 1.6 sec in this step\n",
      "it take 1.7 sec in this step\n",
      "it take 1.8 sec in this step\n",
      "it take 1.9 sec in this step\n",
      "Total execution time: 3 sec\n"
     ]
    }
   ],
   "source": [
    "%%bash\n",
    "\n",
    "FUN() {\n",
    "    echo \"it take ${1}.${2} sec in this step\"\n",
    "    sleep ${1}.${2}\n",
    "}\n",
    "# environemnt variable\n",
    "# -f means it's a function\n",
    "export -f FUN\n",
    "\n",
    "start=`date +%s`\n",
    "parallel FUN ${i} ${j} ::: {0..1} ::: {2..9}\n",
    "end=`date +%s`\n",
    "echo Total execution time: $((end-start)) sec"
   ]
  },
  {
   "cell_type": "markdown",
   "metadata": {
    "slideshow": {
     "slide_type": "slide"
    }
   },
   "source": [
    "# Example_5 - while loop"
   ]
  },
  {
   "cell_type": "code",
   "execution_count": 35,
   "metadata": {},
   "outputs": [
    {
     "name": "stdout",
     "output_type": "stream",
     "text": [
      "1\n",
      "2\n",
      "3\n",
      "4\n"
     ]
    }
   ],
   "source": [
    "%%bash\n",
    "\n",
    "for i in {1..4}; do echo $i; done > file.txt\n",
    "\n",
    "while read line; do\n",
    "    echo ${line}\n",
    "done < file.txt"
   ]
  },
  {
   "cell_type": "markdown",
   "metadata": {
    "slideshow": {
     "slide_type": "fragment"
    }
   },
   "source": [
    "### Parallelization "
   ]
  },
  {
   "cell_type": "code",
   "execution_count": 36,
   "metadata": {},
   "outputs": [
    {
     "name": "stdout",
     "output_type": "stream",
     "text": [
      "1\n",
      "2\n",
      "3\n",
      "4\n"
     ]
    }
   ],
   "source": [
    "%%bash\n",
    "\n",
    "parallel echo \"{1}\" :::: file.txt"
   ]
  },
  {
   "cell_type": "markdown",
   "metadata": {},
   "source": [
    "# Python Multiprocessing"
   ]
  },
  {
   "cell_type": "code",
   "execution_count": null,
   "metadata": {},
   "outputs": [],
   "source": []
  },
  {
   "cell_type": "markdown",
   "metadata": {
    "slideshow": {
     "slide_type": "slide"
    }
   },
   "source": [
    "<center><img src=\"img/intro_mgr.png\" style=\"width: 1400px;\"></center>"
   ]
  },
  {
   "cell_type": "code",
   "execution_count": null,
   "metadata": {
    "slideshow": {
     "slide_type": "slide"
    }
   },
   "outputs": [],
   "source": []
  }
 ],
 "metadata": {
  "celltoolbar": "Slideshow",
  "kernelspec": {
   "display_name": "Python 3",
   "language": "python",
   "name": "python3"
  },
  "language_info": {
   "codemirror_mode": {
    "name": "ipython",
    "version": 3
   },
   "file_extension": ".py",
   "mimetype": "text/x-python",
   "name": "python",
   "nbconvert_exporter": "python",
   "pygments_lexer": "ipython3",
   "version": "3.7.5"
  }
 },
 "nbformat": 4,
 "nbformat_minor": 2
}
