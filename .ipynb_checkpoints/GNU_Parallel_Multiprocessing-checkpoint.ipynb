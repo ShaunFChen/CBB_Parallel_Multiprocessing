{
 "cells": [
  {
   "cell_type": "markdown",
   "metadata": {
    "slideshow": {
     "slide_type": "slide"
    }
   },
   "source": [
    "### Scripps Research CBB - Code Topics\n",
    "\n",
    "<h1><center>Parallization</center></h1>\n",
    "<h2><center>-- Basic GNU Parallel and Python Multiprocessing --</center></h2>\n",
    "\n",
    "__Shang-Fu Chen (Shaun)  \n",
    "PhD student @ Torkamani lab  \n",
    "Scripps Research Tranlational Institute (SRTI)__"
   ]
  },
  {
   "cell_type": "markdown",
   "metadata": {
    "slideshow": {
     "slide_type": "skip"
    }
   },
   "source": [
    "1. How can I go home earlier?\n",
    "1. In what situation should I parallelize my jobs?\n",
    "1. What's GNU Parallel? \n",
    "1. (How to run multiprocessing in Python script?)"
   ]
  },
  {
   "cell_type": "markdown",
   "metadata": {
    "slideshow": {
     "slide_type": "slide"
    }
   },
   "source": [
    "# Outline\n",
    "\n",
    "All new computers have multiple cores. Many bioinformatics tools are serial in nature and will therefore not use the multiple cores.  \n",
    "However, many bioinformatics tasks (especially within NGS) are extremely parallelizeable:\n",
    "\n",
    "|Good for| Not suitable for |\n",
    "|:-|:-|\n",
    "|<p><li>Run the same program on many files</li><li>Run the same program on every sequence</li></p>| <p><li>Different steps of analysis with inter-dependenvies.</li><li> __Ex.__ QC -> Assembly -> Variant calling</li></p> |"
   ]
  },
  {
   "cell_type": "markdown",
   "metadata": {
    "slideshow": {
     "slide_type": "fragment"
    }
   },
   "source": [
    "<img src='img/et-home-phone.jpg' style=\"width: 800px;\">"
   ]
  },
  {
   "cell_type": "markdown",
   "metadata": {
    "slideshow": {
     "slide_type": "slide"
    }
   },
   "source": [
    "# How can we go home earlier?\n",
    "- Sequential loops\n",
    "- Run session in background  (`nohup`, `screen`)\n",
    "- Submit jobs to clusters (TORQUE: `qsub`, SLURM: `srun`)\n",
    "\n",
    "<img src='img/meme_3.jpg' style=\"width: 800px;\">"
   ]
  },
  {
   "cell_type": "markdown",
   "metadata": {
    "slideshow": {
     "slide_type": "slide"
    }
   },
   "source": [
    "# Serial vs Parallel\n",
    "\n",
    "\n",
    "\n",
    "\n",
    "\n",
    "|   |   |\n",
    "| :-|:-: |\n",
    "| <p> Traditionally, software has been written for __serial__ computation: <li>A problem is broken into a discrete series of instructions</li><li>Instructions are executed sequentially one after another</li><li>Executed on a single processor</li><li>Only one instruction may execute at any moment in time </p> | <img src='img/serialProblem.gif' style=\"width: 1000px;\"> |\n",
    "| <p>In the simplest sense, __parallel__ computing is the simultaneous use of multiple compute </p><p> resources to solve a computational problem:<li>A problem is broken into discrete parts that can be solved concurrently</li><li>Each part is further broken down to a series of instructions</li><li>Instructions from each part execute simultaneously on different processors</li><li>An overall control/coordination mechanism is employed </p> | <img src='img/parallelProblem.gif' style=\"width: 1000px;\"> |\n",
    "\n",
    "\n",
    "- Resoure: [Introduction to Parallel Computing](https://computing.llnl.gov/tutorials/parallel_comp/)\n"
   ]
  },
  {
   "cell_type": "markdown",
   "metadata": {
    "slideshow": {
     "slide_type": "slide"
    }
   },
   "source": [
    "# In reality...\n",
    "\n",
    "<img src='img/meme_2.jpg' style=\"width: 800px;\">\n",
    "\n",
    "----\n",
    "- UNIX-based parallel (GNU `parallel`)\n",
    "- Python-based parallel (`multiprocessing`)"
   ]
  },
  {
   "cell_type": "markdown",
   "metadata": {
    "slideshow": {
     "slide_type": "slide"
    }
   },
   "source": [
    "# Normal Parallel vs GNU Parallel\n",
    "\n",
    "- A: If you have 32 different jobs you want to run on 4 CPUs, a straight forward way to parallelize is to run 8 jobs on each CPU:\n",
    "- B: GNU Parallel instead spawns a new process when one finishes - keeping the CPUs active and thus saving time:\n",
    "\n",
    "A. Normal Parallel | B. GNU Parallel\n",
    ":-:|:-: \n",
    "![fig_1](img/fig_1.png) | ![fig_2](img/fig_2.png)\n",
    "\n",
    "\n",
    "- Resoure: [Tool: Gnu Parallel - Parallelize Serial Command Line Programs Without Changing Them](https://www.biostars.org/p/63816/)"
   ]
  },
  {
   "cell_type": "markdown",
   "metadata": {
    "slideshow": {
     "slide_type": "slide"
    }
   },
   "source": [
    "# GNU Parallel: Installation\n",
    "\n",
    "A personal installation does not require root access. It can be done in 10 seconds by doing this:  \n",
    "```\n",
    "(wget -O - pi.dk/3 || curl pi.dk/3/ || fetch -o - http://pi.dk/3) | bash\n",
    "```  \n",
    "\n",
    "- For Mac user: \n",
    "```ruby\n",
    "brew install parallel\n",
    "```\n",
    "- For Debian/Ubuntu user: \n",
    "```ruby\n",
    "sudo apt-get install -y parallel\n",
    "```\n",
    "- For RedHat/CentOS \n",
    "```ruby\n",
    "sudo yum install parallel\n",
    "```\n",
    "- For other installation options see http://git.savannah.gnu.org/cgit/parallel.git/tree/README\n",
    "\n"
   ]
  },
  {
   "cell_type": "markdown",
   "metadata": {
    "slideshow": {
     "slide_type": "fragment"
    }
   },
   "source": [
    "# GNU Parallel: Work on Garibaldi @ Scripps Research\n",
    "\n",
    "```\n",
    "qsub -I -l nodes=1:ppn=16\n",
    "```\n",
    "\n",
    "  \n",
    "##### NOTE#1: Do NOT use GNU parallel in login node!!!\n",
    "  \n",
    "##### NOTE#2: Watch out for the limitation of RAM"
   ]
  },
  {
   "cell_type": "markdown",
   "metadata": {
    "slideshow": {
     "slide_type": "slide"
    }
   },
   "source": [
    "# GNU Parallel: Example_1 - single command line"
   ]
  },
  {
   "cell_type": "code",
   "execution_count": 5,
   "metadata": {
    "slideshow": {
     "slide_type": "-"
    }
   },
   "outputs": [
    {
     "name": "stdout",
     "output_type": "stream",
     "text": [
      "Total execution time: 7 sec\n"
     ]
    }
   ],
   "source": [
    "%%bash\n",
    "\n",
    "start=`date +%s`\n",
    "for i in {01..22}; do \n",
    "    sleep 0.${i}\n",
    "done\n",
    "end=`date +%s`\n",
    "echo Total execution time: $((end-start)) sec"
   ]
  },
  {
   "cell_type": "markdown",
   "metadata": {
    "slideshow": {
     "slide_type": "fragment"
    }
   },
   "source": [
    "### Parallelization \n",
    "\n",
    "```ruby\n",
    "parallel -j [core_number] [command] {1} ::: [list]\n",
    "```\n",
    "\n",
    "```ruby\n",
    "parallel -j [core_number] [command] {1} {2} ::: [list_1] ::: {list_2}\n",
    "```"
   ]
  },
  {
   "cell_type": "code",
   "execution_count": 2,
   "metadata": {},
   "outputs": [
    {
     "name": "stdout",
     "output_type": "stream",
     "text": [
      "Total execution time: 2 sec\n"
     ]
    }
   ],
   "source": [
    "%%bash\n",
    "\n",
    "start=`date +%s`\n",
    "parallel -j 8 sleep 0.{1} ::: {01..22}\n",
    "end=`date +%s`\n",
    "echo Total execution time: $((end-start)) sec"
   ]
  },
  {
   "cell_type": "code",
   "execution_count": 3,
   "metadata": {
    "slideshow": {
     "slide_type": "-"
    }
   },
   "outputs": [
    {
     "name": "stdout",
     "output_type": "stream",
     "text": [
      "1 + 8\n",
      "1 + 9\n",
      "2 + 8\n",
      "2 + 9\n"
     ]
    }
   ],
   "source": [
    "%%bash\n",
    "\n",
    "parallel -j 8 echo {1} + {2} ::: {1..2} ::: $(seq 8 9)"
   ]
  },
  {
   "cell_type": "markdown",
   "metadata": {
    "slideshow": {
     "slide_type": "slide"
    }
   },
   "source": [
    "# GNU Parallel: Example_2 - composed command line"
   ]
  },
  {
   "cell_type": "code",
   "execution_count": 13,
   "metadata": {},
   "outputs": [
    {
     "name": "stdout",
     "output_type": "stream",
     "text": [
      "40:F\t1:100\n",
      "40:F\t1:200\n",
      "40:F\t2:100\n",
      "40:F\t2:200\n",
      "40:F\t3:100\n",
      "40:F\t3:200\n",
      "40:M\t1:100\n",
      "40:M\t1:200\n",
      "40:M\t2:100\n",
      "40:M\t2:200\n",
      "40:M\t3:100\n",
      "40:M\t3:200\n",
      "Total execution time: 6 sec\n"
     ]
    }
   ],
   "source": [
    "%%bash\n",
    "\n",
    "start=`date +%s`\n",
    "for GENDER in F M; do\n",
    "    for CHR in {1..3}; do\n",
    "        for AGE in 40; do\n",
    "            for BP in 100 200; do\n",
    "                printf \"${AGE}:${GENDER}\\t\"\n",
    "                echo ${CHR}:${BP}\n",
    "                sleep 0.5\n",
    "            done\n",
    "        done\n",
    "    done\n",
    "done\n",
    "end=`date +%s`\n",
    "echo Total execution time: $((end-start)) sec"
   ]
  },
  {
   "cell_type": "markdown",
   "metadata": {
    "slideshow": {
     "slide_type": "fragment"
    }
   },
   "source": [
    "### Parallelization \n",
    "\n",
    "```ruby\n",
    "parallel --header : -j [core_number] \"[command_1] {p_1} {p_3} {p_2}\" ::: p_1 [list_1] ::: p_2 [list_2] ::: p_3 [list_3]\n",
    "```"
   ]
  },
  {
   "cell_type": "code",
   "execution_count": 14,
   "metadata": {
    "slideshow": {
     "slide_type": "-"
    }
   },
   "outputs": [
    {
     "name": "stdout",
     "output_type": "stream",
     "text": [
      "40:F\t1:100\n",
      "40:F\t1:200\n",
      "40:F\t2:200\n",
      "40:F\t2:100\n",
      "40:F\t3:200\n",
      "40:F\t3:100\n",
      "40:M\t1:100\n",
      "40:M\t1:200\n",
      "40:M\t2:100\n",
      "40:M\t2:200\n",
      "40:M\t3:100\n",
      "40:M\t3:200\n",
      "Total execution time: 1 sec\n"
     ]
    }
   ],
   "source": [
    "%%bash\n",
    "\n",
    "start=`date +%s`\n",
    "parallel --header : -j 8 \"printf '{AGE}:{GENDER}\\t'; echo {CHR}:{BP}; sleep 0.1\" ::: GENDER F M ::: CHR {1..3} ::: AGE 40 ::: BP 100 200\n",
    "end=`date +%s`\n",
    "echo Total execution time: $((end-start)) sec"
   ]
  },
  {
   "cell_type": "markdown",
   "metadata": {
    "slideshow": {
     "slide_type": "slide"
    }
   },
   "source": [
    "# GNU Parallel: Example_3 - bash script"
   ]
  },
  {
   "cell_type": "code",
   "execution_count": 20,
   "metadata": {
    "slideshow": {
     "slide_type": "-"
    }
   },
   "outputs": [
    {
     "name": "stdout",
     "output_type": "stream",
     "text": [
      "printf 'this step takes 0.22 sec\\n'; sleep 0.22\n",
      "printf 'this step takes 0.21 sec\\n'; sleep 0.21\n",
      "printf 'this step takes 0.20 sec\\n'; sleep 0.20\n",
      "printf 'this step takes 0.19 sec\\n'; sleep 0.19\n",
      "printf 'this step takes 0.18 sec\\n'; sleep 0.18\n",
      "printf 'this step takes 0.17 sec\\n'; sleep 0.17\n",
      "printf 'this step takes 0.16 sec\\n'; sleep 0.16\n",
      "printf 'this step takes 0.15 sec\\n'; sleep 0.15\n",
      "printf 'this step takes 0.14 sec\\n'; sleep 0.14\n",
      "printf 'this step takes 0.13 sec\\n'; sleep 0.13\n",
      "printf 'this step takes 0.12 sec\\n'; sleep 0.12\n",
      "printf 'this step takes 0.11 sec\\n'; sleep 0.11\n",
      "printf 'this step takes 0.10 sec\\n'; sleep 0.10\n",
      "printf 'this step takes 0.09 sec\\n'; sleep 0.09\n",
      "printf 'this step takes 0.08 sec\\n'; sleep 0.08\n",
      "printf 'this step takes 0.07 sec\\n'; sleep 0.07\n",
      "printf 'this step takes 0.06 sec\\n'; sleep 0.06\n",
      "printf 'this step takes 0.05 sec\\n'; sleep 0.05\n",
      "printf 'this step takes 0.04 sec\\n'; sleep 0.04\n",
      "printf 'this step takes 0.03 sec\\n'; sleep 0.03\n",
      "printf 'this step takes 0.02 sec\\n'; sleep 0.02\n",
      "printf 'this step takes 0.01 sec\\n'; sleep 0.01\n"
     ]
    }
   ],
   "source": [
    "%%bash\n",
    "\n",
    "for i in $(seq -w 22 1); do echo \"printf 'this step takes 0.${i} sec\\n'; sleep 0.${i}\"; done > example_3.sh\n",
    "\n",
    "cat example_3.sh"
   ]
  },
  {
   "cell_type": "code",
   "execution_count": 21,
   "metadata": {
    "slideshow": {
     "slide_type": "fragment"
    }
   },
   "outputs": [
    {
     "name": "stdout",
     "output_type": "stream",
     "text": [
      "this step takes 0.22 sec\n",
      "this step takes 0.21 sec\n",
      "this step takes 0.20 sec\n",
      "this step takes 0.19 sec\n",
      "this step takes 0.18 sec\n",
      "this step takes 0.17 sec\n",
      "this step takes 0.16 sec\n",
      "this step takes 0.15 sec\n",
      "this step takes 0.14 sec\n",
      "this step takes 0.13 sec\n",
      "this step takes 0.12 sec\n",
      "this step takes 0.11 sec\n",
      "this step takes 0.10 sec\n",
      "this step takes 0.09 sec\n",
      "this step takes 0.08 sec\n",
      "this step takes 0.07 sec\n",
      "this step takes 0.06 sec\n",
      "this step takes 0.05 sec\n",
      "this step takes 0.04 sec\n",
      "this step takes 0.03 sec\n",
      "this step takes 0.02 sec\n",
      "this step takes 0.01 sec\n"
     ]
    },
    {
     "name": "stderr",
     "output_type": "stream",
     "text": [
      "\n",
      "real\t0m2.658s\n",
      "user\t0m0.023s\n",
      "sys\t0m0.043s\n"
     ]
    }
   ],
   "source": [
    "%%bash\n",
    "\n",
    "time bash example_3.sh"
   ]
  },
  {
   "cell_type": "markdown",
   "metadata": {
    "slideshow": {
     "slide_type": "fragment"
    }
   },
   "source": [
    "### Parallelization \n",
    "\n",
    "\n",
    "```ruby\n",
    "parallel -j [core_number] < ${bash_script}\n",
    "```"
   ]
  },
  {
   "cell_type": "code",
   "execution_count": 22,
   "metadata": {},
   "outputs": [
    {
     "name": "stdout",
     "output_type": "stream",
     "text": [
      "this step takes 0.15 sec\n",
      "this step takes 0.16 sec\n",
      "this step takes 0.17 sec\n",
      "this step takes 0.18 sec\n",
      "this step takes 0.19 sec\n",
      "this step takes 0.20 sec\n",
      "this step takes 0.21 sec\n",
      "this step takes 0.22 sec\n",
      "this step takes 0.07 sec\n",
      "this step takes 0.08 sec\n",
      "this step takes 0.09 sec\n",
      "this step takes 0.10 sec\n",
      "this step takes 0.11 sec\n",
      "this step takes 0.12 sec\n",
      "this step takes 0.13 sec\n",
      "this step takes 0.14 sec\n",
      "this step takes 0.01 sec\n",
      "this step takes 0.02 sec\n",
      "this step takes 0.03 sec\n",
      "this step takes 0.04 sec\n",
      "this step takes 0.05 sec\n",
      "this step takes 0.06 sec\n"
     ]
    },
    {
     "name": "stderr",
     "output_type": "stream",
     "text": [
      "\n",
      "real\t0m0.591s\n",
      "user\t0m0.189s\n",
      "sys\t0m0.239s\n"
     ]
    }
   ],
   "source": [
    "%%bash\n",
    "\n",
    "time parallel < example_3.sh"
   ]
  },
  {
   "cell_type": "markdown",
   "metadata": {
    "slideshow": {
     "slide_type": "slide"
    }
   },
   "source": [
    "# GNU Parallel: Example_4 - function"
   ]
  },
  {
   "cell_type": "code",
   "execution_count": 12,
   "metadata": {},
   "outputs": [
    {
     "name": "stdout",
     "output_type": "stream",
     "text": [
      "it take 0.2 sec in this step\n",
      "it take 0.3 sec in this step\n",
      "it take 0.4 sec in this step\n",
      "it take 0.5 sec in this step\n",
      "it take 1.2 sec in this step\n",
      "it take 1.3 sec in this step\n",
      "it take 1.4 sec in this step\n",
      "it take 1.5 sec in this step\n",
      "Total execution time: 7 sec\n"
     ]
    }
   ],
   "source": [
    "%%bash\n",
    "\n",
    "FUN() {\n",
    "    echo \"it take ${1}.${2} sec in this step\"\n",
    "    sleep ${1}.${2}\n",
    "}\n",
    "\n",
    "start=`date +%s`\n",
    "for i in {0..1}; do\n",
    "    for j in {2..5}; do\n",
    "        FUN ${i} ${j}\n",
    "    done\n",
    "done\n",
    "end=`date +%s`\n",
    "echo Total execution time: $((end-start)) sec"
   ]
  },
  {
   "cell_type": "markdown",
   "metadata": {
    "slideshow": {
     "slide_type": "fragment"
    }
   },
   "source": [
    "### Parallelization \n",
    "\n",
    "```ruby\n",
    "FUNCTION() {\n",
    "    # ...do something...\n",
    "}\n",
    "export -f FUNCTION\n",
    "\n",
    "parallel -j [core_number] FUNCTION\n",
    "```"
   ]
  },
  {
   "cell_type": "code",
   "execution_count": 24,
   "metadata": {},
   "outputs": [
    {
     "name": "stdout",
     "output_type": "stream",
     "text": [
      "it take 0.2 sec in this step\n",
      "it take 0.3 sec in this step\n",
      "it take 0.4 sec in this step\n",
      "it take 0.5 sec in this step\n",
      "it take 1.2 sec in this step\n",
      "it take 1.3 sec in this step\n",
      "it take 1.4 sec in this step\n",
      "it take 1.5 sec in this step\n",
      "Total execution time: 2 sec\n"
     ]
    }
   ],
   "source": [
    "%%bash\n",
    "\n",
    "FUN() {\n",
    "    echo \"it take ${1}.${2} sec in this step\"\n",
    "    sleep ${1}.${2}\n",
    "}\n",
    "export -f FUN\n",
    "\n",
    "start=`date +%s`\n",
    "parallel -j 8 FUN {1} {2} ::: {0..1} ::: {2..5}\n",
    "end=`date +%s`\n",
    "echo Total execution time: $((end-start)) sec"
   ]
  },
  {
   "cell_type": "markdown",
   "metadata": {
    "slideshow": {
     "slide_type": "slide"
    }
   },
   "source": [
    "# GNU Parallel: Example_5 - while loop"
   ]
  },
  {
   "cell_type": "code",
   "execution_count": 15,
   "metadata": {},
   "outputs": [
    {
     "name": "stdout",
     "output_type": "stream",
     "text": [
      "1\n",
      "2\n",
      "3\n",
      "4\n",
      "A\n",
      "B\n",
      "C\n",
      "D\n",
      "foo\n",
      "bar\n"
     ]
    }
   ],
   "source": [
    "%%bash\n",
    "\n",
    "for i in {1..4} {A..D} foo bar; do echo $i; done > file.txt\n",
    "\n",
    "while read line; do\n",
    "    echo ${line}\n",
    "done < file.txt"
   ]
  },
  {
   "cell_type": "markdown",
   "metadata": {
    "slideshow": {
     "slide_type": "fragment"
    }
   },
   "source": [
    "### Parallelization \n",
    "\n",
    "\n",
    "```ruby\n",
    "parallel -j [core_number] [command] {1} :::: [file]\n",
    "```"
   ]
  },
  {
   "cell_type": "code",
   "execution_count": 25,
   "metadata": {},
   "outputs": [
    {
     "name": "stdout",
     "output_type": "stream",
     "text": [
      "1\n",
      "2\n",
      "3\n",
      "4\n",
      "A\n",
      "B\n",
      "C\n",
      "D\n",
      "foo\n",
      "bar\n"
     ]
    }
   ],
   "source": [
    "%%bash\n",
    "\n",
    "parallel echo \"{1}\" :::: file.txt"
   ]
  },
  {
   "cell_type": "markdown",
   "metadata": {
    "slideshow": {
     "slide_type": "slide"
    }
   },
   "source": [
    "# For more information...\n",
    "\n",
    "[Tool: Gnu Parallel - Parallelize Serial Command Line Programs Without Changing Them](https://www.biostars.org/p/63816/)"
   ]
  },
  {
   "cell_type": "markdown",
   "metadata": {
    "slideshow": {
     "slide_type": "-"
    }
   },
   "source": [
    "# GNU Parallel: Built-in Tutorial\n",
    "```ruby\n",
    "man parallel_tutorial\n",
    "```\n"
   ]
  },
  {
   "cell_type": "markdown",
   "metadata": {
    "slideshow": {
     "slide_type": "skip"
    }
   },
   "source": [
    "#### EXAMPLE: Replace a for-loop\n",
    "\n",
    "It is often faster to write a command using GNU Parallel than making a for loop:\n",
    "\n",
    "```ruby\n",
    "for i in *gz; do \n",
    "    zcat ${i} > $(basename ${i} .gz).unpacked\n",
    "done\n",
    "```\n",
    "\n",
    "can be written as:\n",
    "\n",
    "```ruby\n",
    "parallel 'zcat {} > {.}.unpacked' ::: *.gz\n",
    "```\n",
    "The added benefit is that the zcats are run in parallel - one per CPU core."
   ]
  },
  {
   "cell_type": "markdown",
   "metadata": {
    "slideshow": {
     "slide_type": "skip"
    }
   },
   "source": [
    "#### EXAMPLE: Parallelizing BLAT\n",
    "\n",
    "This will start a blat process for each processor and distribute foo.fa to these in 1 MB blocks:\n",
    "\n",
    "```ruby\n",
    "cat foo.fa | parallel --round-robin --pipe --recstart '>' 'blat -noHead genome.fa stdin >(cat) >&2' >foo.psl\n",
    "```"
   ]
  },
  {
   "cell_type": "markdown",
   "metadata": {
    "slideshow": {
     "slide_type": "skip"
    }
   },
   "source": [
    "#### EXAMPLE: Blast on multiple machines\n",
    "\n",
    "Assume you have a 1 GB fasta file that you want blast, GNU Parallel can then split the fasta file into 100 KB chunks and run 1 jobs per CPU core:\n",
    "\n",
    "```ruby\n",
    "cat 1gb.fasta | parallel --block 100k --recstart '>' --pipe blastp -evalue 0.01 -outfmt 6 -db db.fa -query - > results\n",
    "```\n",
    "If you have access to the local machine, server1 and server2, GNU Parallel can distribute the jobs to each of the servers. It will automatically detect how many CPU cores are on each of the servers:\n",
    "\n",
    "```ruby\n",
    "cat 1gb.fasta | parallel -S :,server1,server2 --block 100k --recstart '>' --pipe blastp -evalue 0.01 -outfmt 6 -db db.fa -query - > result\n",
    "```"
   ]
  },
  {
   "cell_type": "markdown",
   "metadata": {
    "slideshow": {
     "slide_type": "skip"
    }
   },
   "source": [
    "#### EXAMPLE: Run bigWigToWig for each chromosome\n",
    "\n",
    "If you have one file per chomosome it is easy to parallelize processing each file. Here we do bigWigToWig for chromosome 1..19 + X Y M. These will run in parallel but only one job per CPU core. The {} will be substituted with arguments following the separator ':::'.\n",
    "\n",
    "```ruby\n",
    "parallel bigWigToWig -chrom=chr{} wgEncodeCrgMapabilityAlign36mer_mm9.bigWig mm9_36mer_chr{}.map ::: {1..19} X Y M\n",
    "```"
   ]
  },
  {
   "cell_type": "markdown",
   "metadata": {
    "slideshow": {
     "slide_type": "skip"
    }
   },
   "source": [
    "#### EXAMPLE: Running composed commands\n",
    "\n",
    "GNU Parallel is not limited to running a single command. It can run a composed command. Here is now you process multiple FASTA files using Biopieces (which uses pipes to communicate):\n",
    "\n",
    "```ruby\n",
    "parallel 'read_fasta -i {} | extract_seq -l 5 | write_fasta -o {.}_trim.fna -x' ::: *.fna\n",
    "```\n",
    "See also: https://github.com/maasha/biopieces/wiki/HowTo#howto-use-biopieces-with-gnu-parallel"
   ]
  },
  {
   "cell_type": "markdown",
   "metadata": {
    "slideshow": {
     "slide_type": "skip"
    }
   },
   "source": [
    "#### EXAMPLE: Running experiments\n",
    "\n",
    "Experiments often have several parameters where every combination should be tested. Assume we have a program called experiment that takes 3 arguments: --age --sex --chr:\n",
    "\n",
    "```ruby\n",
    "experiment --age 18 --sex M --chr 22\n",
    "```\n",
    "Now we want to run experiment for every combination of ages 1..80, sex M/F, chr 1..22+XY:\n",
    "\n",
    "```ruby\n",
    "parallel experiment --age {1} --sex {2} --chr {3} ::: {1..80} ::: M F ::: {1..22} X Y\n",
    "```\n",
    "To save the output in different files you could do:\n",
    "\n",
    "```ruby\n",
    "parallel experiment --age {1} --sex {2} --chr {3} '>' output.{1}.{2}.{3} ::: {1..80} ::: M F ::: {1..22} X Y\n",
    "```\n",
    "But GNU Parallel can structure the output into directories so you avoid having thousands of output files in a single dir:\n",
    "\n",
    "```ruby\n",
    "parallel --results outputdir experiment --age {1} --sex {2} --chr {3} ::: {1..80} ::: M F ::: {1..22} X Y\n",
    "```\n",
    "This will create files like outputdir/1/80/2/M/3/X/stdout containing the standard output of the job.\n",
    "\n",
    "If you have many different parameters it may be handy to name them:\n",
    "\n",
    "```ruby\n",
    "parallel --result outputdir --header : experiment --age {AGE} --sex {SEX} --chr {CHR} ::: AGE {1..80} ::: SEX M F ::: CHR {1..22} X Y\n",
    "```\n",
    "Then the output files will be named like outputdir/AGE/80/CHR/Y/SEX/F/stdout\n",
    "\n",
    "If you want the output in a CSV/TSV-file that you can read into R or LibreOffice Calc, simply point `--result` to a file ending in .csv/.tsv:\n",
    "\n",
    "```ruby\n",
    "parallel --result output.tsv --header : experiment --age {AGE} --sex {SEX} --chr {CHR} ::: AGE {1..80} ::: SEX M F ::: CHR {1..22} X Y\n",
    "```\n",
    "It will deal correctly with newlines in the output, so they will be read as newlines in R or LibreOffice Calc.\n",
    "\n",
    "If one of your parameters take on many different values, these can be read from a file using `::::`\n",
    "\n",
    "```ruby\n",
    "echo AGE > age_file\n",
    "seq 1 80 >> age_file\n",
    "parallel --results outputdir --header : experiment --age {AGE} --sex {SEX} --chr {CHR} :::: age_file ::: SEX M F ::: CHR {1..22} X Y\n",
    "```\n",
    "If you have many experiments, it can be useful to see some experiments picked at random. Think of it as painting a picture by numbers: You can start from the top corner, or you can paint bits at random. If you paint bits at random, you will often see a pattern earlier, than if you painted in the structured way.\n",
    "\n",
    "With `--shuf` GNU Parallel will shuffle the experiments and run them all, but in random order:\n",
    "\n",
    "```ruby\n",
    "parallel --shuf --results outputdir --header : experiment --age {AGE} --sex {SEX} --chr {CHR} :::: age_file ::: SEX M F ::: CHR {1..22} X Y\n",
    "```"
   ]
  },
  {
   "cell_type": "markdown",
   "metadata": {
    "slideshow": {
     "slide_type": "skip"
    }
   },
   "source": [
    "#### EXAMPLE(advanced): Using GNU Parallel to parallelize you own scripts\n",
    "\n",
    "Assume you have BASH/Perl/Python script called `launch`. It takes one arguments, `ID`:\n",
    "\n",
    "```ruby\n",
    "launch ID\n",
    "```\n",
    "Using parallel you can run multiple `ID`s in parallel using:\n",
    "\n",
    "```ruby\n",
    "parallel launch ::: ID1 ID2 ...\n",
    "```\n",
    "But you would like to hide this complexity from the user, so the user only has to do:\n",
    "\n",
    "```ruby\n",
    "launch ID1 ID2 ...\n",
    "```\n",
    "You can do that using `--shebang-wrap`. Change the shebang line from:\n",
    "\n",
    "```ruby\n",
    "#!/usr/bin/env bash\n",
    "#!/usr/bin/env perl\n",
    "#!/usr/bin/env python\n",
    "```\n",
    "to:\n",
    "\n",
    "```ruby\n",
    "#!/usr/bin/parallel --shebang-wrap bash\n",
    "#!/usr/bin/parallel --shebang-wrap perl\n",
    "#!/usr/bin/parallel --shebang-wrap python\n",
    "```\n",
    "You further develop your script so it now takes an `ID` and a `DIR`:\n",
    "\n",
    "```ruby\n",
    "launch ID DIR\n",
    "```\n",
    "You would like it to take multiple `ID`s but only one `DIR`, and run the `ID`s in `parallel`. Again just change the `shebang` line to:\n",
    "\n",
    "```ruby\n",
    "#!/usr/bin/parallel --shebang-wrap bash\n",
    "```\n",
    "And now you can run:\n",
    "\n",
    "```ruby\n",
    "launch ID1 ID2 ID3 ::: DIR\n",
    "```"
   ]
  },
  {
   "cell_type": "markdown",
   "metadata": {
    "slideshow": {
     "slide_type": "skip"
    }
   },
   "source": [
    "#### Learn more\n",
    "\n",
    "See more examples: http://www.gnu.org/software/parallel/man.html\n",
    "\n",
    "Watch the intro videos: https://www.youtube.com/playlist?list=PL284C9FF2488BC6D1\n",
    "\n",
    "Walk through the tutorial once a year - your command line will love you for it: http://www.gnu.org/software/parallel/parallel_tutorial.html\n",
    "\n",
    "Sign up for the email list to get support: https://lists.gnu.org/mailman/listinfo/parallel"
   ]
  },
  {
   "cell_type": "markdown",
   "metadata": {
    "slideshow": {
     "slide_type": "slide"
    }
   },
   "source": [
    "<img src='img/batman_slap.jpg' style=\"width: 1000px;\">"
   ]
  },
  {
   "cell_type": "markdown",
   "metadata": {
    "slideshow": {
     "slide_type": "slide"
    }
   },
   "source": [
    "# Python Multiprocessing\n",
    "\n",
    "|  |  | \n",
    ":-:|:-: \n",
    "![fig_1](img/Python-Multiprocessing-Module-01.jpg) | ![fig_2](img/Python-Multiprocessing.png)\n",
    "\n",
    "- Resoure: [Python Multiprocessing Module With Example](https://data-flair.training/blogs/python-multiprocessing/)\n",
    "- Resoure: [Multiprocessing in Python: Comparative study — Pool and Process class](https://medium.com/datadriveninvestor/python-multiprocessing-pool-vs-process-comparative-analysis-6c03c5b54eec)\n"
   ]
  },
  {
   "cell_type": "markdown",
   "metadata": {
    "slideshow": {
     "slide_type": "slide"
    }
   },
   "source": [
    "# Python Multiprocessing: Installation\n",
    "```\n",
    "pip install multiprocess\n",
    "```"
   ]
  },
  {
   "cell_type": "code",
   "execution_count": 16,
   "metadata": {},
   "outputs": [
    {
     "data": {
      "text/plain": [
       "8"
      ]
     },
     "execution_count": 16,
     "metadata": {},
     "output_type": "execute_result"
    }
   ],
   "source": [
    "import multiprocessing as mp\n",
    "mp.cpu_count()"
   ]
  },
  {
   "cell_type": "markdown",
   "metadata": {
    "slideshow": {
     "slide_type": "fragment"
    }
   },
   "source": [
    "# Python Multiprocessing: Work on Jupyterhub @ Scripps Research\n",
    "\n",
    "#### NOTE:  Do NOT use `mp.cpu_count()` in jupyterhub node!!!\n",
    "1. Test with smaller hard-coded cpu number\n",
    "1. Export to executable script\n",
    "1. Submit a job to allocate independent multi-core computing node (`qsub -l nodes=1:ppn=16`)."
   ]
  },
  {
   "cell_type": "markdown",
   "metadata": {
    "slideshow": {
     "slide_type": "slide"
    }
   },
   "source": [
    "# Python Multiprocesing: Example\n",
    "\n",
    "- Resource: [Process or Thread, that is the question](https://blog.tecladocode.com/process-or-thread-that-is-the-question/?fbclid=IwAR1oNpytAdUSn1nXFcDU9IMNf67NGoKyQ2SPMNLrR4PeJ4Wb7LtiUkmolzM)"
   ]
  },
  {
   "cell_type": "code",
   "execution_count": 69,
   "metadata": {},
   "outputs": [],
   "source": [
    "import multiprocessing as mp\n",
    "from multiprocessing.pool import Pool\n",
    "\n",
    "import numpy as np\n",
    "import urllib.request\n",
    "import gzip\n",
    "import time"
   ]
  },
  {
   "cell_type": "code",
   "execution_count": 70,
   "metadata": {},
   "outputs": [
    {
     "name": "stdout",
     "output_type": "stream",
     "text": [
      "my chromosome list: ['1' '2' '3' '4' '5' '6' '7' '8' '9' '10' '11' '12' '13' '14' '15' '16'\n",
      " '17' '18' '19' '20' '21' '22' 'X' 'Y']\n"
     ]
    }
   ],
   "source": [
    "my_chromosome = np.arange(1,23)\n",
    "my_chromosome = np.append(my_chromosome, ['X', 'Y'])\n",
    "\n",
    "print(f\"my chromosome list: {my_chromosome}\")"
   ]
  },
  {
   "cell_type": "code",
   "execution_count": 71,
   "metadata": {},
   "outputs": [],
   "source": [
    "def cal_gc(my_chrom):\n",
    "    '''\n",
    "    calculate the GC content per chromosome using partial human genome.\n",
    "    '''\n",
    "    results = []\n",
    "    for i in my_chrom:\n",
    "        # Read the first 20,000,000 bytes of the file inside the .gz archive located at `url`\n",
    "        url = 'https://hgdownload.cse.ucsc.edu/goldenpath/hg38/chromosomes/chr' + str(i) + '.fa.gz'\n",
    "        with urllib.request.urlopen(url) as response:\n",
    "            with gzip.GzipFile(fileobj=response) as uncompressed:\n",
    "                file_header = uncompressed.read(20000000) \n",
    "                seq = \"\".join(str(file_header).split('\\\\n')[1:])\n",
    "                seq_upper = seq.upper()\n",
    "                gc_content = (seq_upper.count('C') + seq_upper.count('G')) / len(seq_upper)\n",
    "        results.append(gc_content)\n",
    "        print(f\"chr{i}: {gc_content}\")\n",
    "    return results"
   ]
  },
  {
   "cell_type": "code",
   "execution_count": 72,
   "metadata": {
    "slideshow": {
     "slide_type": "fragment"
    }
   },
   "outputs": [
    {
     "name": "stdout",
     "output_type": "stream",
     "text": [
      "chr1: 0.48681213671736084\n",
      "chr2: 0.41979776557732856\n",
      "chr3: 0.4137723183059592\n",
      "chr4: 0.44288822444941534\n",
      "chr5: 0.4164688418749256\n",
      "chr6: 0.41725867904158126\n",
      "chr7: 0.41367654028575\n",
      "chr8: 0.40931532536553367\n",
      "chr9: 0.3859680814392652\n",
      "chr10: 0.4171523652939197\n",
      "chr11: 0.43805579177061743\n",
      "chr12: 0.41601868599689573\n",
      "chr13: 0.06970360526234458\n",
      "chr14: 0.0663896243940816\n",
      "chr15: 0.05024959916539498\n",
      "chr16: 0.46789192158768345\n",
      "chr17: 0.4607494207163482\n",
      "chr18: 0.4055106942438019\n",
      "chr19: 0.5146766308452773\n",
      "chr20: 0.4119810149390259\n",
      "chr21: 0.26046303524131525\n",
      "chr22: 0.17052838767843756\n",
      "chrX: 0.4074226129661713\n",
      "chrY: 0.3883418259401253\n",
      "--- 46.44958686828613 seconds ---\n"
     ]
    }
   ],
   "source": [
    "start_time = time.time()\n",
    "serial_gc = []\n",
    "for i in my_chromosome:\n",
    "    serial_gc.append(cal_gc([i])[0])\n",
    "print(f\"--- {time.time() - start_time} seconds ---\")"
   ]
  },
  {
   "cell_type": "markdown",
   "metadata": {
    "slideshow": {
     "slide_type": "slide"
    }
   },
   "source": [
    "### Parallelization "
   ]
  },
  {
   "cell_type": "code",
   "execution_count": 67,
   "metadata": {},
   "outputs": [
    {
     "name": "stdout",
     "output_type": "stream",
     "text": [
      "my core number: 8\n",
      "my chunks: [array(['1', '2', '3'], dtype='<U21'), array(['4', '5', '6'], dtype='<U21'), array(['7', '8', '9'], dtype='<U21'), array(['10', '11', '12'], dtype='<U21'), array(['13', '14', '15'], dtype='<U21'), array(['16', '17', '18'], dtype='<U21'), array(['19', '20', '21'], dtype='<U21'), array(['22', 'X', 'Y'], dtype='<U21')]\n"
     ]
    }
   ],
   "source": [
    "my_ncores=mp.cpu_count()\n",
    "print(f\"my core number: {my_ncores}\")\n",
    "\n",
    "# np.random.shuffle(my_chromosome)\n",
    "\n",
    "my_chunks = np.array_split(my_chromosome, my_ncores)\n",
    "print(f\"my chunks: {my_chunks}\")"
   ]
  },
  {
   "cell_type": "code",
   "execution_count": 73,
   "metadata": {
    "slideshow": {
     "slide_type": "-"
    }
   },
   "outputs": [
    {
     "name": "stdout",
     "output_type": "stream",
     "text": [
      "chr13: 0.06970360526234458\n",
      "chr22: 0.17052838767843756\n",
      "chr14: 0.0663896243940816\n",
      "chr10: 0.4171523652939197\n",
      "chr4: 0.44288822444941534\n",
      "chr1: 0.48681213671736084\n",
      "chr16: 0.46789192158768345\n",
      "chr15: 0.05024959916539498\n",
      "chr7: 0.41367654028575\n",
      "chr19: 0.5146766308452773\n",
      "chrX: 0.4074226129661713\n",
      "chr11: 0.43805579177061743\n",
      "chr17: 0.4607494207163482\n",
      "chr5: 0.4164688418749256\n",
      "chr2: 0.41979776557732856\n",
      "chr8: 0.40931532536553367\n",
      "chr20: 0.4119810149390259\n",
      "chrY: 0.3883418259401253\n",
      "chr12: 0.41601868599689573\n",
      "chr18: 0.4055106942438019\n",
      "chr6: 0.41725867904158126\n",
      "chr3: 0.4137723183059592\n",
      "chr21: 0.26046303524131525\n",
      "chr9: 0.3859680814392652\n",
      "--- 12.079432249069214 seconds ---\n"
     ]
    }
   ],
   "source": [
    "start_time = time.time()\n",
    "# multiprocessing init.\n",
    "pool = Pool(my_ncores)\n",
    "\n",
    "# passing fixed/iterable parameters to slave function\n",
    "mp_results = pool.map(cal_gc, my_chunks)\n",
    "pool.close()\n",
    "pool.join()\n",
    "\n",
    "mp_gc = [item for sublist in mp_results for item in sublist]\n",
    "print(f\"--- {time.time() - start_time} seconds ---\")"
   ]
  },
  {
   "cell_type": "markdown",
   "metadata": {
    "slideshow": {
     "slide_type": "slide"
    }
   },
   "source": [
    "# The result will be the same."
   ]
  },
  {
   "cell_type": "code",
   "execution_count": 25,
   "metadata": {
    "slideshow": {
     "slide_type": "-"
    }
   },
   "outputs": [
    {
     "data": {
      "text/plain": [
       "True"
      ]
     },
     "execution_count": 25,
     "metadata": {},
     "output_type": "execute_result"
    }
   ],
   "source": [
    "serial_gc == mp_gc"
   ]
  },
  {
   "cell_type": "markdown",
   "metadata": {
    "slideshow": {
     "slide_type": "slide"
    }
   },
   "source": [
    "# Discussion: Speedup Factors vs Granularity\n"
   ]
  },
  {
   "cell_type": "markdown",
   "metadata": {
    "slideshow": {
     "slide_type": "-"
    }
   },
   "source": [
    "|  |  |\n",
    ":-:|:-: \n",
    "<img src='img/image_2.png' style=\"width: 1000px;\"> | <img src='img/fig_breakdown.png' style=\"width: 1600px;\">\n",
    "\n",
    "\n"
   ]
  },
  {
   "cell_type": "markdown",
   "metadata": {
    "slideshow": {
     "slide_type": "slide"
    }
   },
   "source": [
    "<img src=\"img/intro_mgr.png\" style=\"width: 1800px;\">"
   ]
  }
 ],
 "metadata": {
  "celltoolbar": "Slideshow",
  "kernelspec": {
   "display_name": "Python 3",
   "language": "python",
   "name": "python3"
  },
  "language_info": {
   "codemirror_mode": {
    "name": "ipython",
    "version": 3
   },
   "file_extension": ".py",
   "mimetype": "text/x-python",
   "name": "python",
   "nbconvert_exporter": "python",
   "pygments_lexer": "ipython3",
   "version": "3.7.5"
  }
 },
 "nbformat": 4,
 "nbformat_minor": 2
}
